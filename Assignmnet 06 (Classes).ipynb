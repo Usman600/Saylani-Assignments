{
  "cells": [
    {
      "cell_type": "markdown",
      "metadata": {
        "id": "XLFr4w_7OFN7"
      },
      "source": [
        "1. Write a Python program to create a class representing a Circle. Include methods to calculate its area and perimeter."
      ]
    },
    {
      "cell_type": "code",
      "execution_count": 10,
      "metadata": {},
      "outputs": [],
      "source": [
        "import math\n",
        "\n",
        "class circle():\n",
        "    def __init__(self,radius):\n",
        "        self.radius = radius\n",
        "        \n",
        "\n",
        "    def area(self):\n",
        "        cal = 3.14 * 20**2\n",
        "\n",
        "        print(cal)       \n",
        "\n",
        "car1 = circle(20)"
      ]
    },
    {
      "cell_type": "markdown",
      "metadata": {
        "id": "CBPk4mH4OTCO"
      },
      "source": [
        "2. Write a Python program to create a person class. Include attributes like name, country and date of birth. Implement a method to determine the person's age.\n"
      ]
    },
    {
      "cell_type": "code",
      "execution_count": 2,
      "metadata": {},
      "outputs": [
        {
          "name": "stdout",
          "output_type": "stream",
          "text": [
            "Usman Hussain is 21 years old.\n"
          ]
        }
      ],
      "source": [
        "from datetime import datetime\n",
        "\n",
        "class Person:\n",
        "    def __init__(self,name,country,dob):\n",
        "        self.name = name\n",
        "        self.country = country\n",
        "        self.dob = dob\n",
        "\n",
        "    def person_Age(self):\n",
        "        birth_year = int(self.dob[:4])\n",
        "        current_year = datetime.now().year\n",
        "        age = current_year - birth_year\n",
        "        return age\n",
        "\n",
        "person = Person(\"Usman Hussain\", \"Karachi,Pakistan\", \"2003-02-15\")\n",
        "print(f\"{person.name} is {person.person_Age()} years old.\")\n",
        "        \n"
      ]
    },
    {
      "cell_type": "markdown",
      "metadata": {},
      "source": [
        "3. Write a Python program to create a calculator class. Include methods for basic arithmetic operations."
      ]
    },
    {
      "cell_type": "code",
      "execution_count": 6,
      "metadata": {},
      "outputs": [
        {
          "name": "stdout",
          "output_type": "stream",
          "text": [
            "Addition: 15\n",
            "Subtraction: 5\n",
            "Multiplication: 50\n",
            "Division: 2.0\n"
          ]
        }
      ],
      "source": [
        "class Calculator():\n",
        "    def add(self, a, b):\n",
        "        return a + b\n",
        "\n",
        "    def sub(self, a, b):\n",
        "        return a - b\n",
        "\n",
        "    def mul(self, a, b):\n",
        "        return a * b\n",
        "\n",
        "    def div(self, a, b):\n",
        "        if b == 0:\n",
        "            return \"Error: Division by zero\"\n",
        "        return a / b\n",
        "\n",
        "# Example usage\n",
        "calc = Calculator()\n",
        "print(\"Addition:\", calc.add(10, 5))\n",
        "print(\"Subtraction:\", calc.sub(10, 5))\n",
        "print(\"Multiplication:\", calc.mul(10, 5))\n",
        "print(\"Division:\", calc.div(10, 5))\n"
      ]
    }
  ],
  "metadata": {
    "colab": {
      "provenance": []
    },
    "kernelspec": {
      "display_name": "Python 3",
      "name": "python3"
    },
    "language_info": {
      "codemirror_mode": {
        "name": "ipython",
        "version": 3
      },
      "file_extension": ".py",
      "mimetype": "text/x-python",
      "name": "python",
      "nbconvert_exporter": "python",
      "pygments_lexer": "ipython3",
      "version": "3.12.1"
    }
  },
  "nbformat": 4,
  "nbformat_minor": 0
}
