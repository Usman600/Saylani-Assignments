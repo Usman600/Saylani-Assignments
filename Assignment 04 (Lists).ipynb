{
 "cells": [
  {
   "cell_type": "code",
   "execution_count": 24,
   "metadata": {},
   "outputs": [
    {
     "name": "stdout",
     "output_type": "stream",
     "text": [
      "Alternate elements of the list are: ['usman', 'khalid', 'ali']\n"
     ]
    }
   ],
   "source": [
    "#QUESTION-1\n",
    "\n",
    "input_list = input(\"Enter elements of the list separated by spaces: \").split()\n",
    "print(\"Alternate elements of the list are:\", input_list[::2])\n"
   ]
  },
  {
   "cell_type": "code",
   "execution_count": 23,
   "metadata": {},
   "outputs": [
    {
     "name": "stdout",
     "output_type": "stream",
     "text": [
      "Reversed list is: ['50', '40', '30', '20', '10']\n"
     ]
    }
   ],
   "source": [
    "#QUESTION-2\n",
    "\n",
    "input_list = input(\"Enter elements of the list separated by spaces: \").split()\n",
    "reversed_list = input_list[::-1]\n",
    "\n",
    "print(\"Reversed list is:\", reversed_list)\n"
   ]
  },
  {
   "cell_type": "code",
   "execution_count": 21,
   "metadata": {},
   "outputs": [
    {
     "name": "stdout",
     "output_type": "stream",
     "text": [
      "The largest number is: 22\n"
     ]
    }
   ],
   "source": [
    "#QUESTION-3\n",
    "\n",
    "input_list = list(map(int, input(\"Enter numbers separated by spaces: \").split()))\n",
    "largest = input_list[0]\n",
    "\n",
    "for num in input_list:\n",
    "    if num > largest:\n",
    "        largest = num\n",
    "\n",
    "print(\"The largest number is:\", largest)\n"
   ]
  },
  {
   "cell_type": "code",
   "execution_count": 17,
   "metadata": {},
   "outputs": [
    {
     "name": "stdout",
     "output_type": "stream",
     "text": [
      "Rotated list is: ['usman', 'Hi', 'my', 'name', 'is']\n"
     ]
    }
   ],
   "source": [
    "#QUESTION-4\n",
    "\n",
    "input_list = input(\"Enter elements of the list separated by spaces: \").split()\n",
    "rotated_list = [input_list[-1]] + input_list[:-1]\n",
    "print(\"Rotated list is:\", rotated_list)\n"
   ]
  },
  {
   "cell_type": "code",
   "execution_count": 15,
   "metadata": {},
   "outputs": [
    {
     "name": "stdout",
     "output_type": "stream",
     "text": [
      "Modified sentence: Uman\n"
     ]
    }
   ],
   "source": [
    "#QUESTION-5\n",
    "\n",
    "input_string = input(\"Enter a sentence: \")\n",
    "word_to_delete = input(\"Enter the word you want to delete: \")\n",
    "modified_string = input_string.replace(word_to_delete, \"\").strip()\n",
    "\n",
    "print(\"Modified sentence:\", modified_string)\n"
   ]
  },
  {
   "cell_type": "code",
   "execution_count": 14,
   "metadata": {},
   "outputs": [
    {
     "name": "stdout",
     "output_type": "stream",
     "text": [
      "Formatted date: February 21, 2003\n"
     ]
    }
   ],
   "source": [
    "#QUESTION-6\n",
    "\n",
    "from datetime import datetime\n",
    "\n",
    "date_input = input(\"Enter a date in mm/dd/yyyy format: \")\n",
    "date_object = datetime.strptime(date_input, \"%m/%d/%Y\")\n",
    "formatted_date = date_object.strftime(\"%B %d, %Y\")\n",
    "print(\"Formatted date:\", formatted_date)\n"
   ]
  },
  {
   "cell_type": "code",
   "execution_count": 13,
   "metadata": {},
   "outputs": [
    {
     "name": "stdout",
     "output_type": "stream",
     "text": [
      "Formatted string: My Name Is Usman\n"
     ]
    }
   ],
   "source": [
    "#QUESTION-7\n",
    "\n",
    "def capitalize_words(input_string):\n",
    "    \n",
    "    capitalized_string = ' '.join(word.capitalize() for word in input_string.split())\n",
    "    return capitalized_string\n",
    "\n",
    "\n",
    "user_input = input(\"Enter a sentence: \")\n",
    "\n",
    "formatted_string = capitalize_words(user_input)\n",
    "print(\"Formatted string:\", formatted_string)\n"
   ]
  },
  {
   "cell_type": "code",
   "execution_count": 10,
   "metadata": {},
   "outputs": [
    {
     "name": "stdout",
     "output_type": "stream",
     "text": [
      "Sum of row 1: 5\n",
      "Sum of row 2: 9\n"
     ]
    }
   ],
   "source": [
    "#QUESTION-8\n",
    "\n",
    "\n",
    "m = int(input(\"Enter the number of rows (m): \"))\n",
    "n = int(input(\"Enter the number of columns (n): \"))\n",
    "matrix = []\n",
    "\n",
    "for i in range(m):\n",
    "    row = list(map(int, input().split()))  \n",
    "    matrix.append(row)\n",
    "\n",
    "for i in range(m):\n",
    "    row_sum = sum(matrix[i])  \n",
    "    print(f\"Sum of row {i + 1}: {row_sum}\")\n"
   ]
  },
  {
   "cell_type": "code",
   "execution_count": null,
   "metadata": {},
   "outputs": [],
   "source": [
    "#QUESTION-9\n",
    "\n",
    "m = int(input(\"Enter the number of rows (m): \"))\n",
    "n = int(input(\"Enter the number of columns (n): \"))\n",
    "\n",
    "matrix1 = []\n",
    "\n",
    "for i in range(m):\n",
    "    row = list(map(int, input().split()))  \n",
    "    matrix1.append(row)\n",
    "\n",
    "\n",
    "matrix2 = []\n",
    "for i in range(m):\n",
    "    row = list(map(int, input().split()))  \n",
    "    matrix2.append(row)\n",
    "\n",
    "\n",
    "result_matrix = []\n",
    "\n",
    "for i in range(m):\n",
    "    result_row = []  \n",
    "\n",
    "    for j in range(n):    \n",
    "        result_row.append(matrix1[i][j] + matrix2[i][j])\n",
    "    result_matrix.append(result_row)\n",
    "\n",
    "\n",
    "print(\"Resultant Matrix:\")\n",
    "for row in result_matrix:\n",
    "    print(\" \".join(map(str, row)))  "
   ]
  },
  {
   "cell_type": "code",
   "execution_count": null,
   "metadata": {},
   "outputs": [],
   "source": [
    "#QUESTION-10\n",
    "\n",
    "\n",
    "m = int(input(\"Enter the number of rows for the first matrix (m): \"))\n",
    "n = int(input(\"Enter the number of columns for the first matrix (n): \"))\n",
    "\n",
    "\n",
    "matrix1 = []\n",
    "for i in range(m):\n",
    "    row = list(map(int, input().split()))\n",
    "    matrix1.append(row)\n",
    "\n",
    "\n",
    "p = int(input(\"Enter the number of columns for the second matrix (p): \"))\n",
    "\n",
    "matrix2 = []\n",
    "for i in range(n):\n",
    "    row = list(map(int, input().split())) \n",
    "    matrix2.append(row)\n",
    "\n",
    "\n",
    "result_matrix = [[0 for _ in range(p)] for _ in range(m)]\n",
    "\n",
    "\n",
    "for i in range(m):\n",
    "    for j in range(p):\n",
    "        for k in range(n):\n",
    "            result_matrix[i][j] += matrix1[i][k] * matrix2[k][j]\n",
    "\n",
    "\n",
    "print(\"Resultant Matrix:\")\n",
    "for row in result_matrix:\n",
    "    print(\" \".join(map(str, row)))  \n",
    "\n"
   ]
  }
 ],
 "metadata": {
  "kernelspec": {
   "display_name": "Python 3",
   "language": "python",
   "name": "python3"
  },
  "language_info": {
   "codemirror_mode": {
    "name": "ipython",
    "version": 3
   },
   "file_extension": ".py",
   "mimetype": "text/x-python",
   "name": "python",
   "nbconvert_exporter": "python",
   "pygments_lexer": "ipython3",
   "version": "3.12.1"
  }
 },
 "nbformat": 4,
 "nbformat_minor": 2
}
