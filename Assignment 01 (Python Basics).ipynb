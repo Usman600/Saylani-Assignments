{
 "cells": [
  {
   "cell_type": "markdown",
   "metadata": {},
   "source": [
    "# Part -1 Python Basics (Variables)"
   ]
  },
  {
   "cell_type": "markdown",
   "metadata": {},
   "source": [
    "1. Print Your Name with your Father name and Date of birth using suitable escape sequence charactor"
   ]
  },
  {
   "cell_type": "code",
   "execution_count": 1,
   "metadata": {},
   "outputs": [
    {
     "name": "stdout",
     "output_type": "stream",
     "text": [
      "Name:\tM. Usman Hussain\n",
      "F.Name:\tAshfaq Hussain\n",
      "D.O.B:\t15-02-2003\n"
     ]
    }
   ],
   "source": [
    "print(\"Name:\\tM. Usman Hussain\\nF.Name:\\tAshfaq Hussain\\nD.O.B:\\t15-02-2003\")"
   ]
  },
  {
   "cell_type": "markdown",
   "metadata": {},
   "source": [
    "2. Write your small bio using variables and print it using print function"
   ]
  },
  {
   "cell_type": "code",
   "execution_count": 2,
   "metadata": {},
   "outputs": [
    {
     "name": "stdout",
     "output_type": "stream",
     "text": [
      "My name is Usman and i am studying bscs from kiet\n"
     ]
    }
   ],
   "source": [
    "Bio = input(\"Enter you Bio:\")\n",
    "print(Bio)"
   ]
  },
  {
   "cell_type": "markdown",
   "metadata": {},
   "source": [
    "3. Write a program in which use all the operators we can use in Python"
   ]
  },
  {
   "cell_type": "code",
   "execution_count": 1,
   "metadata": {},
   "outputs": [
    {
     "name": "stdout",
     "output_type": "stream",
     "text": [
      "Arithmetic Operators:\n",
      "a + b = 15\n",
      "a - b = 5\n",
      "a * b = 50\n",
      "a / b = 2.0\n",
      "a % b = 0\n",
      "a ** b = 100000\n",
      "a // b = 2\n",
      "\n",
      "Comparison Operators:\n",
      "a == b : False\n",
      "a != b : True\n",
      "a > b : True\n",
      "a < b : False\n",
      "a >= b : True\n",
      "a <= b : False\n",
      "\n",
      "Logical Operators:\n",
      "a > b and b < 10 : True\n",
      "a > b or b > 10 : True\n",
      "not (a > b) : False\n",
      "\n",
      "Assignment Operators:\n",
      "c = a : 10\n",
      "c += b : 15\n",
      "c -= b : 10\n",
      "c *= b : 50\n",
      "c /= b : 10.0\n",
      "c %= b : 0.0\n",
      "c **= b : 0.0\n",
      "c //= b : 0.0\n",
      "\n"
     ]
    }
   ],
   "source": [
    "a = 10\n",
    "b = 5\n",
    "\n",
    "# Arithmetic Operators\n",
    "print(\"Arithmetic Operators:\")\n",
    "print(f\"a + b = {a + b}\")  \n",
    "print(f\"a - b = {a - b}\")  \n",
    "print(f\"a * b = {a * b}\") \n",
    "print(f\"a / b = {a / b}\")  \n",
    "print(f\"a % b = {a % b}\")  \n",
    "print(f\"a ** b = {a ** b}\")  \n",
    "print(f\"a // b = {a // b}\")  \n",
    "print()\n",
    "\n",
    "# Comparison Operators\n",
    "print(\"Comparison Operators:\")\n",
    "print(f\"a == b : {a == b}\") \n",
    "print(f\"a != b : {a != b}\")  \n",
    "print(f\"a > b : {a > b}\")  \n",
    "print(f\"a < b : {a < b}\")  \n",
    "print(f\"a >= b : {a >= b}\") \n",
    "print(f\"a <= b : {a <= b}\")  \n",
    "print()\n",
    "\n",
    "# Logical Operators\n",
    "print(\"Logical Operators:\")\n",
    "print(f\"a > b and b < 10 : {a > b and b < 10}\")  \n",
    "print(f\"a > b or b > 10 : {a > b or b > 10}\")  \n",
    "print(f\"not (a > b) : {not (a > b)}\")  \n",
    "print()\n",
    "\n",
    "# Assignment Operators\n",
    "print(\"Assignment Operators:\")\n",
    "c = a\n",
    "print(f\"c = a : {c}\")\n",
    "c += b\n",
    "print(f\"c += b : {c}\")\n",
    "c -= b\n",
    "print(f\"c -= b : {c}\")\n",
    "c *= b\n",
    "print(f\"c *= b : {c}\")\n",
    "c /= b\n",
    "print(f\"c /= b : {c}\")\n",
    "c %= b\n",
    "print(f\"c %= b : {c}\")\n",
    "c **= b\n",
    "print(f\"c **= b : {c}\")\n",
    "c //= b\n",
    "print(f\"c //= b : {c}\")\n",
    "print()\n",
    "\n"
   ]
  },
  {
   "cell_type": "markdown",
   "metadata": {},
   "source": [
    "4. Completes the following steps of small task:\n",
    "    - Mention Marks of English , Islamiat and Maths out of 100 in 3 different variables\n",
    "    - Mention Variable of Total Marks and assign 300 to it\n",
    "    - Calculate Percentage"
   ]
  },
  {
   "cell_type": "code",
   "execution_count": 3,
   "metadata": {},
   "outputs": [
    {
     "name": "stdout",
     "output_type": "stream",
     "text": [
      "86.0\n"
     ]
    }
   ],
   "source": [
    "English = 89\n",
    "Islamiat = 70\n",
    "Math = 99\n",
    "Total = 300\n",
    "sum = English + Islamiat + Math\n",
    "per = (sum/Total) * 100\n",
    "print(per)"
   ]
  },
  {
   "cell_type": "markdown",
   "metadata": {},
   "source": [
    "# Part -2 Python Basics (Conditional Statements)"
   ]
  },
  {
   "cell_type": "markdown",
   "metadata": {},
   "source": [
    "1) A company decided to give bonus of 5% to employee if his/her year of service is more than 5 years.\n",
    "Ask user for their salary and year of service and print the net bonus amount."
   ]
  },
  {
   "cell_type": "code",
   "execution_count": 43,
   "metadata": {},
   "outputs": [
    {
     "name": "stdout",
     "output_type": "stream",
     "text": [
      "Usman your net bonus amount is 1500.0 according to your 30000\n"
     ]
    }
   ],
   "source": [
    "Employee_N = input(\"Enter your name: \") \n",
    "Salary = int(input(\"Enter your Salary: \"))\n",
    "Y_ser = int(input(\"Enter your service year: \"))\n",
    "bonus = 5\n",
    "net_bonus = Salary * (bonus/100)\n",
    "\n",
    "if Y_ser > 5:\n",
    "    print(f\"{Employee_N} your net bonus amount is {net_bonus} according to your {Salary}\")\n",
    "\n",
    "else:\n",
    "    print(\"Your net bonus amount is not issued due to less years of service\")"
   ]
  },
  {
   "cell_type": "markdown",
   "metadata": {},
   "source": [
    "\n",
    "2) Write a program to check whether a person is eligible for voting or not. (accept age from user) if age is greater than 17 eligible otherwise not eligible"
   ]
  },
  {
   "cell_type": "code",
   "execution_count": 12,
   "metadata": {},
   "outputs": [
    {
     "name": "stdout",
     "output_type": "stream",
     "text": [
      "Eligible for voting\n"
     ]
    }
   ],
   "source": [
    "Age = int(input(\"Enter your age: \"))\n",
    "\n",
    "if Age >= 18:\n",
    "    print(\"Eligible for voting\")\n",
    "\n",
    "else: \n",
    "    print(\"Not Eligible for voting\")"
   ]
  },
  {
   "cell_type": "markdown",
   "metadata": {},
   "source": [
    "\n",
    "3) Write a program to check whether a number entered by user is even or odd."
   ]
  },
  {
   "cell_type": "code",
   "execution_count": 17,
   "metadata": {},
   "outputs": [
    {
     "name": "stdout",
     "output_type": "stream",
     "text": [
      "35 is odd\n"
     ]
    }
   ],
   "source": [
    "num = int(input(\"Enter a number: \"))\n",
    "\n",
    "if num % 2 == 0:\n",
    "    print(f\"{num} is even\")\n",
    "\n",
    "else:\n",
    "    print(f\"{num} is odd\")"
   ]
  },
  {
   "cell_type": "markdown",
   "metadata": {},
   "source": [
    "4) Write a program to check whether a number is divisible by 7 or not.\n",
    "Show Answer"
   ]
  },
  {
   "cell_type": "code",
   "execution_count": 21,
   "metadata": {},
   "outputs": [
    {
     "name": "stdout",
     "output_type": "stream",
     "text": [
      "49 is divisible b 7\n"
     ]
    }
   ],
   "source": [
    "num = int(input(\"Enter a number: \"))\n",
    "\n",
    "if num % 7 == 0:\n",
    "    print(f\"{num} is divisible by 7\")\n",
    "\n",
    "else:\n",
    "    print(f\"{num} is not divisible by 7\")"
   ]
  },
  {
   "cell_type": "markdown",
   "metadata": {},
   "source": [
    "5) Write a program to display \n",
    "\"Hello\" if a number entered by user is a multiple of five , otherwise print \"Bye\"."
   ]
  },
  {
   "cell_type": "code",
   "execution_count": 26,
   "metadata": {},
   "outputs": [
    {
     "name": "stdout",
     "output_type": "stream",
     "text": [
      "Bye\n"
     ]
    }
   ],
   "source": [
    "num = int(input(\"Enter a number: \"))\n",
    "\n",
    "if num % 5 == 0:\n",
    "    print(\"Hello\")\n",
    "\n",
    "else:\n",
    "    print(\"Bye\")"
   ]
  },
  {
   "cell_type": "markdown",
   "metadata": {},
   "source": [
    "6) Write a program to calculate the electricity bill (accept number of unit from user) according to the following criteria :\n",
    "     Unit                                                     Price  \n",
    "uptp 100 units                                             no charge\n",
    "Next 200 units                                              Rs 5 per unit\n",
    "After 200 units                                             Rs 10 per unit\n",
    "(For example if input unit is 350 than total bill amount is Rs.3500\n",
    "(For example if input unit is 97 than total bill amount is Rs.0\n",
    "(For example if input unit is 150 than total bill amount is Rs.750"
   ]
  },
  {
   "cell_type": "code",
   "execution_count": 2,
   "metadata": {},
   "outputs": [
    {
     "name": "stdout",
     "output_type": "stream",
     "text": [
      "The total bill amount is Rs.750\n"
     ]
    }
   ],
   "source": [
    "\n",
    "units = int(input(\"Enter the number of units: \"))\n",
    "bill = 0\n",
    "\n",
    "if units <= 100:\n",
    "    bill = 0\n",
    "elif units <= 300:\n",
    "    bill = (units - 100) * 5\n",
    "else:\n",
    "    bill = (200 * 5) + ((units - 300) * 10)\n",
    "\n",
    "print(f\"The total bill amount is Rs.{bill}\")\n"
   ]
  },
  {
   "cell_type": "markdown",
   "metadata": {},
   "source": [
    "7) Write a program to display the last digit of a number.\n"
   ]
  },
  {
   "cell_type": "code",
   "execution_count": 2,
   "metadata": {},
   "outputs": [
    {
     "name": "stdout",
     "output_type": "stream",
     "text": [
      "The last digit of the number is: 1\n"
     ]
    }
   ],
   "source": [
    "\n",
    "number = int(input(\"Enter a number: \"))\n",
    "last_digit = number % 10\n",
    "\n",
    "if number < 0:\n",
    "    number = -number  \n",
    "\n",
    "if last_digit >= 0 and last_digit <= 9:\n",
    "    print(\"The last digit of the number is:\", last_digit)\n",
    "else:\n",
    "    print(\"Error in extracting the last digit.\")\n"
   ]
  },
  {
   "cell_type": "markdown",
   "metadata": {},
   "source": [
    "9) Take values of length and breadth of a rectangle from user and print if it is square or rectangle."
   ]
  },
  {
   "cell_type": "code",
   "execution_count": 38,
   "metadata": {},
   "outputs": [
    {
     "name": "stdout",
     "output_type": "stream",
     "text": [
      "It is rectangle\n"
     ]
    }
   ],
   "source": [
    "Length = int(input(\"Enter length of rectangle\"))\n",
    "Breadth = int(input(\"Enter breadth of rectangle\"))\n",
    "\n",
    "if Length != Breadth:\n",
    "    print(\"It is rectangle\")\n",
    "\n",
    "else:\n",
    "    print(\"It is Square\")"
   ]
  },
  {
   "cell_type": "markdown",
   "metadata": {},
   "source": [
    "10) Take two int values from user and print greatest among them."
   ]
  },
  {
   "cell_type": "code",
   "execution_count": 40,
   "metadata": {},
   "outputs": [
    {
     "name": "stdout",
     "output_type": "stream",
     "text": [
      "Num1 is greater\n"
     ]
    }
   ],
   "source": [
    "num1 = int(input(\"Enter a num1: \"))\n",
    "num2 = int(input(\"Enter a num2: \"))\n",
    "\n",
    "if num1 > num2:\n",
    "    print(\"Num1 is greater\")\n",
    "\n",
    "else: \n",
    "    print(\"Num2 is greater\")"
   ]
  },
  {
   "cell_type": "markdown",
   "metadata": {},
   "source": [
    "11) A shop will give discount of 10% if the cost of purchased quantity is more than 1000.\n",
    "Ask user for quantity\n",
    "Suppose, one unit will cost 100.\n",
    "Judge and print total cost for user."
   ]
  },
  {
   "cell_type": "code",
   "execution_count": 3,
   "metadata": {},
   "outputs": [
    {
     "name": "stdout",
     "output_type": "stream",
     "text": [
      "The total cost for the user is: Rs.4050.0\n"
     ]
    }
   ],
   "source": [
    "\n",
    "unit_cost = 100\n",
    "quantity = int(input(\"Enter the quantity: \"))\n",
    "total_cost = unit_cost * quantity\n",
    "\n",
    "if total_cost > 1000:\n",
    "    discount = total_cost * 0.10  \n",
    "    total_cost -= discount\n",
    "\n",
    "print(f\"The total cost for the user is: Rs.{total_cost}\")\n"
   ]
  },
  {
   "cell_type": "markdown",
   "metadata": {},
   "source": [
    "12) A school has following rules for grading system:\n",
    "\n",
    "a. Below 25 - F\n",
    "\n",
    "b. 25 to 45 - E\n",
    "\n",
    "c. 45 to 50 - D\n",
    "\n",
    "d. 50 to 60 - C\n",
    "\n",
    "e. 60 to 80 - B\n",
    "\n",
    "f. Above 80 - A\n",
    "\n",
    "Ask user to enter marks and print the corresponding grade."
   ]
  },
  {
   "cell_type": "code",
   "execution_count": 5,
   "metadata": {},
   "outputs": [
    {
     "name": "stdout",
     "output_type": "stream",
     "text": [
      "The grade is: A\n"
     ]
    }
   ],
   "source": [
    "\n",
    "marks = int(input(\"Enter the marks: \"))\n",
    "\n",
    "if marks < 25:\n",
    "    grade = 'F'\n",
    "elif marks >= 25 and marks < 45:\n",
    "    grade = 'E'\n",
    "elif marks >= 45 and marks < 50:\n",
    "    grade = 'D'\n",
    "elif marks >= 50 and marks < 60:\n",
    "    grade = 'C'\n",
    "elif marks >= 60 and marks < 80:\n",
    "    grade = 'B'\n",
    "else:  \n",
    "    grade = 'A'\n",
    "\n",
    "print(f\"The grade is: {grade}\")\n"
   ]
  },
  {
   "cell_type": "markdown",
   "metadata": {},
   "source": [
    "13) Take input of age of 3 people by user and determine oldest and youngest among them."
   ]
  },
  {
   "cell_type": "code",
   "execution_count": 42,
   "metadata": {},
   "outputs": [
    {
     "name": "stdout",
     "output_type": "stream",
     "text": [
      "Age1 is oldest\n",
      "Age2 is youngest\n"
     ]
    }
   ],
   "source": [
    "Age1 = int(input(\"Enter Age1: \"))\n",
    "Age2 = int(input(\"Enter Age2: \"))\n",
    "Age3 = int(input(\"Enter Age3: \"))\n",
    "\n",
    "if Age1 > Age2 and Age1 > Age3:\n",
    "    print(\"Age1 is oldest\")\n",
    "\n",
    "elif Age2 > Age1 and Age2 > Age3:\n",
    "    print(\"Age2 is oldest\")\n",
    "\n",
    "else:\n",
    "    print(\"Age3 is oldest\")\n",
    "\n",
    "\n",
    "if Age1 < Age2 and Age1 < Age3:\n",
    "    print(\"Age1 is youngest\")\n",
    "\n",
    "elif Age2 < Age1 and Age2 < Age3:\n",
    "    print(\"Age2 is youngest\")\n",
    "\n",
    "else:\n",
    "    print(\"Age3 is youngest\")"
   ]
  },
  {
   "cell_type": "markdown",
   "metadata": {},
   "source": [
    "14) A student will not be allowed to sit in exam if his/her attendence is less than 75%.\n",
    "\n",
    "Take following input from user\n",
    "\n",
    "- Number of classes held\n",
    "\n",
    "- Number of classes attended.\n",
    "\n",
    "And print\n",
    "\n",
    "- percentage of class attended\n",
    "\n",
    "- Is student is allowed to sit in exam or not.\n"
   ]
  },
  {
   "cell_type": "code",
   "execution_count": 7,
   "metadata": {},
   "outputs": [
    {
     "name": "stdout",
     "output_type": "stream",
     "text": [
      "Percentage of classes attended: 84.21052631578947%\n",
      "Student is allowed to sit in the exam.\n"
     ]
    }
   ],
   "source": [
    "\n",
    "classes_held = int(input(\"Enter the number of classes held: \"))\n",
    "classes_attended = int(input(\"Enter the number of classes attended: \"))\n",
    "attendance_percentage = (classes_attended / classes_held) * 100\n",
    "\n",
    "if attendance_percentage >= 75:\n",
    "    allowed_to_sit = True\n",
    "else:\n",
    "    allowed_to_sit = False\n",
    "\n",
    "print(f\"Percentage of classes attended: {attendance_percentage}%\")\n",
    "\n",
    "if allowed_to_sit:\n",
    "    print(\"Student is allowed to sit in the exam.\")\n",
    "else:\n",
    "    print(\"Student is not allowed to sit in the exam.\")\n"
   ]
  },
  {
   "cell_type": "markdown",
   "metadata": {},
   "source": [
    "15) Modify the above question to allow student to sit if he/she has medical cause. Ask user if he/she has medical cause or not ( 'Y' or 'N' ) and print accordingly."
   ]
  },
  {
   "cell_type": "code",
   "execution_count": 8,
   "metadata": {},
   "outputs": [
    {
     "name": "stdout",
     "output_type": "stream",
     "text": [
      "Percentage of classes attended: 62.5%\n",
      "Student is allowed to sit in the exam.\n"
     ]
    }
   ],
   "source": [
    "\n",
    "classes_held = int(input(\"Enter the number of classes held: \"))\n",
    "classes_attended = int(input(\"Enter the number of classes attended: \"))\n",
    "attendance_percentage = (classes_attended / classes_held) * 100\n",
    "medical_cause = input(\"Do you have a medical cause? Enter 'Y' or 'N': \").upper()\n",
    "\n",
    "if attendance_percentage >= 75 or medical_cause == 'Y':\n",
    "    allowed_to_sit = True\n",
    "else:\n",
    "    allowed_to_sit = False\n",
    "\n",
    "print(f\"Percentage of classes attended: {attendance_percentage}%\")\n",
    "\n",
    "if allowed_to_sit:\n",
    "    print(\"Student is allowed to sit in the exam.\")\n",
    "else:\n",
    "    print(\"Student is not allowed to sit in the exam.\")\n"
   ]
  },
  {
   "cell_type": "markdown",
   "metadata": {},
   "source": [
    "16) Write a program to check if a year is leap year or not.\n",
    "\n",
    "If a year is divisible by 4 then it is leap year but if the year is century year like 2000, 1900, 2100 then it must be divisible by 400."
   ]
  },
  {
   "cell_type": "code",
   "execution_count": 10,
   "metadata": {},
   "outputs": [
    {
     "name": "stdout",
     "output_type": "stream",
     "text": [
      "1900 is not a leap year.\n"
     ]
    }
   ],
   "source": [
    "\n",
    "year = int(input(\"Enter a year: \"))\n",
    "\n",
    "if year % 4 == 0:\n",
    "    if year % 100 == 0:\n",
    "        if year % 400 == 0:\n",
    "            leap_year = True\n",
    "        else:\n",
    "            leap_year = False\n",
    "    else:\n",
    "        leap_year = True\n",
    "else:\n",
    "    leap_year = False\n",
    "\n",
    "if leap_year:\n",
    "    print(f\"{year} is a leap year.\")\n",
    "else:\n",
    "    print(f\"{year} is not a leap year.\")\n"
   ]
  },
  {
   "cell_type": "markdown",
   "metadata": {},
   "source": [
    "17) Ask user to enter age, gender ( M or F ), marital status ( Y or N ) and then using following rules print their place of service.\n",
    "\n",
    "if employee is female, then she will work only in urban areas.\n",
    "\n",
    "if employee is a male and age is in between 20 to 40 then he may work in anywhere\n",
    "\n",
    "if employee is male and age is in between 40 t0 60 then he will work in urban areas only.\n",
    "\n",
    "And any other input of age should print \"ERROR\""
   ]
  },
  {
   "cell_type": "code",
   "execution_count": 12,
   "metadata": {},
   "outputs": [
    {
     "name": "stdout",
     "output_type": "stream",
     "text": [
      "Place of service: Anywhere\n"
     ]
    }
   ],
   "source": [
    "\n",
    "age = int(input(\"Enter age: \"))\n",
    "gender = input(\"Enter gender (M or F): \").upper()\n",
    "marital_status = input(\"Enter marital status (Y or N): \").upper()\n",
    "\n",
    "if gender == 'F':\n",
    "    place_of_service = \"Urban areas\"\n",
    "elif gender == 'M':\n",
    "    if age >= 20 and age <= 40:\n",
    "        place_of_service = \"Anywhere\"\n",
    "    elif age > 40 and age <= 60:\n",
    "        place_of_service = \"Urban areas\"\n",
    "    else:\n",
    "        place_of_service = \"ERROR: Age criteria not met\"\n",
    "else:\n",
    "    place_of_service = \"ERROR: Gender criteria not recognized\"\n",
    "\n",
    "print(f\"Place of service: {place_of_service}\")\n"
   ]
  }
 ],
 "metadata": {
  "kernelspec": {
   "display_name": "Python 3 (ipykernel)",
   "language": "python",
   "name": "python3"
  },
  "language_info": {
   "codemirror_mode": {
    "name": "ipython",
    "version": 3
   },
   "file_extension": ".py",
   "mimetype": "text/x-python",
   "name": "python",
   "nbconvert_exporter": "python",
   "pygments_lexer": "ipython3",
   "version": "3.12.1"
  }
 },
 "nbformat": 4,
 "nbformat_minor": 2
}
